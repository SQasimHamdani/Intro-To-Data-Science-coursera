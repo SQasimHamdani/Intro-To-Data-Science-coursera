{
 "cells": [
  {
   "cell_type": "code",
   "execution_count": 1,
   "metadata": {},
   "outputs": [],
   "source": [
    "import pandas as pd\n",
    "sdata = {'Ohio': 35000, 'Texas': 71000, 'Oregon': 16000, 'Utah': 5000}\n",
    "obj1 = pd.Series(sdata)\n",
    "states = ['California', 'Ohio', 'Oregon', 'Texas']\n",
    "obj2 = pd.Series(sdata, index=states)\n",
    "obj3 = pd.isnull(obj2)"
   ]
  },
  {
   "cell_type": "code",
   "execution_count": 3,
   "metadata": {},
   "outputs": [
    {
     "output_type": "execute_result",
     "data": {
      "text/plain": [
       "True"
      ]
     },
     "metadata": {},
     "execution_count": 3
    }
   ],
   "source": [
    "import math\n",
    "math.isnan(obj2['California'])"
   ]
  },
  {
   "cell_type": "code",
   "execution_count": 6,
   "metadata": {},
   "outputs": [
    {
     "output_type": "execute_result",
     "data": {
      "text/plain": [
       "True"
      ]
     },
     "metadata": {},
     "execution_count": 6
    }
   ],
   "source": [
    "x = obj2['California']\n",
    "obj2['California'] != x"
   ]
  },
  {
   "cell_type": "code",
   "execution_count": 8,
   "metadata": {},
   "outputs": [
    {
     "output_type": "execute_result",
     "data": {
      "text/plain": [
       "False"
      ]
     },
     "metadata": {},
     "execution_count": 8
    }
   ],
   "source": [
    "obj2['California'] == None"
   ]
  },
  {
   "cell_type": "code",
   "execution_count": 9,
   "metadata": {},
   "outputs": [],
   "source": [
    "import pandas as pd\n",
    "d = {'1': 'Alice','2': 'Bob','3': 'Rita','4': 'Molly','5': 'Ryan'}\n",
    "S = pd.Series(d)"
   ]
  },
  {
   "cell_type": "code",
   "execution_count": 21,
   "metadata": {},
   "outputs": [
    {
     "output_type": "execute_result",
     "data": {
      "text/plain": [
       "1    Alice\n",
       "2      Bob\n",
       "3     Rita\n",
       "dtype: object"
      ]
     },
     "metadata": {},
     "execution_count": 21
    }
   ],
   "source": [
    "S.iloc[0:3]"
   ]
  },
  {
   "cell_type": "code",
   "execution_count": 13,
   "metadata": {},
   "outputs": [
    {
     "output_type": "execute_result",
     "data": {
      "text/plain": [
       "   Unnamed: 0  SEQNUMC  SEQNUMHH  PDAT    PROVWT_D     RDDWT_D  STRATUM  YEAR  \\\n",
       "0           1   128521     12852     2         NaN  235.916956     1031  2017   \n",
       "1           2    10741      1074     2         NaN  957.353840     1068  2017   \n",
       "2           3   220011     22001     2         NaN  189.611299     1050  2017   \n",
       "3           4    86131      8613     1  675.430817  333.447418     1040  2017   \n",
       "4           5   227141     22714     1  482.617748  278.768063     1008  2017   \n",
       "\n",
       "   AGECPOXR  HAD_CPOX  ...  XVRCTY2  XVRCTY3  XVRCTY4  XVRCTY5  XVRCTY6  \\\n",
       "0       NaN         2  ...                        NaN      NaN      NaN   \n",
       "1       NaN         2  ...                        NaN      NaN      NaN   \n",
       "2       NaN         2  ...                        NaN      NaN      NaN   \n",
       "3       NaN         2  ...                        NaN      NaN      NaN   \n",
       "4       NaN         2  ...                        NaN      NaN      NaN   \n",
       "\n",
       "   XVRCTY7  XVRCTY8  XVRCTY9  INS_STAT2_I  INS_BREAK_I  \n",
       "0      NaN      NaN      NaN          NaN          NaN  \n",
       "1      NaN      NaN      NaN          NaN          NaN  \n",
       "2      NaN      NaN      NaN          NaN          NaN  \n",
       "3      NaN      NaN      NaN          1.0          2.0  \n",
       "4      NaN      NaN      NaN          2.0          1.0  \n",
       "\n",
       "[5 rows x 454 columns]"
      ],
      "text/html": "<div>\n<style scoped>\n    .dataframe tbody tr th:only-of-type {\n        vertical-align: middle;\n    }\n\n    .dataframe tbody tr th {\n        vertical-align: top;\n    }\n\n    .dataframe thead th {\n        text-align: right;\n    }\n</style>\n<table border=\"1\" class=\"dataframe\">\n  <thead>\n    <tr style=\"text-align: right;\">\n      <th></th>\n      <th>Unnamed: 0</th>\n      <th>SEQNUMC</th>\n      <th>SEQNUMHH</th>\n      <th>PDAT</th>\n      <th>PROVWT_D</th>\n      <th>RDDWT_D</th>\n      <th>STRATUM</th>\n      <th>YEAR</th>\n      <th>AGECPOXR</th>\n      <th>HAD_CPOX</th>\n      <th>...</th>\n      <th>XVRCTY2</th>\n      <th>XVRCTY3</th>\n      <th>XVRCTY4</th>\n      <th>XVRCTY5</th>\n      <th>XVRCTY6</th>\n      <th>XVRCTY7</th>\n      <th>XVRCTY8</th>\n      <th>XVRCTY9</th>\n      <th>INS_STAT2_I</th>\n      <th>INS_BREAK_I</th>\n    </tr>\n  </thead>\n  <tbody>\n    <tr>\n      <th>0</th>\n      <td>1</td>\n      <td>128521</td>\n      <td>12852</td>\n      <td>2</td>\n      <td>NaN</td>\n      <td>235.916956</td>\n      <td>1031</td>\n      <td>2017</td>\n      <td>NaN</td>\n      <td>2</td>\n      <td>...</td>\n      <td></td>\n      <td></td>\n      <td>NaN</td>\n      <td>NaN</td>\n      <td>NaN</td>\n      <td>NaN</td>\n      <td>NaN</td>\n      <td>NaN</td>\n      <td>NaN</td>\n      <td>NaN</td>\n    </tr>\n    <tr>\n      <th>1</th>\n      <td>2</td>\n      <td>10741</td>\n      <td>1074</td>\n      <td>2</td>\n      <td>NaN</td>\n      <td>957.353840</td>\n      <td>1068</td>\n      <td>2017</td>\n      <td>NaN</td>\n      <td>2</td>\n      <td>...</td>\n      <td></td>\n      <td></td>\n      <td>NaN</td>\n      <td>NaN</td>\n      <td>NaN</td>\n      <td>NaN</td>\n      <td>NaN</td>\n      <td>NaN</td>\n      <td>NaN</td>\n      <td>NaN</td>\n    </tr>\n    <tr>\n      <th>2</th>\n      <td>3</td>\n      <td>220011</td>\n      <td>22001</td>\n      <td>2</td>\n      <td>NaN</td>\n      <td>189.611299</td>\n      <td>1050</td>\n      <td>2017</td>\n      <td>NaN</td>\n      <td>2</td>\n      <td>...</td>\n      <td></td>\n      <td></td>\n      <td>NaN</td>\n      <td>NaN</td>\n      <td>NaN</td>\n      <td>NaN</td>\n      <td>NaN</td>\n      <td>NaN</td>\n      <td>NaN</td>\n      <td>NaN</td>\n    </tr>\n    <tr>\n      <th>3</th>\n      <td>4</td>\n      <td>86131</td>\n      <td>8613</td>\n      <td>1</td>\n      <td>675.430817</td>\n      <td>333.447418</td>\n      <td>1040</td>\n      <td>2017</td>\n      <td>NaN</td>\n      <td>2</td>\n      <td>...</td>\n      <td></td>\n      <td></td>\n      <td>NaN</td>\n      <td>NaN</td>\n      <td>NaN</td>\n      <td>NaN</td>\n      <td>NaN</td>\n      <td>NaN</td>\n      <td>1.0</td>\n      <td>2.0</td>\n    </tr>\n    <tr>\n      <th>4</th>\n      <td>5</td>\n      <td>227141</td>\n      <td>22714</td>\n      <td>1</td>\n      <td>482.617748</td>\n      <td>278.768063</td>\n      <td>1008</td>\n      <td>2017</td>\n      <td>NaN</td>\n      <td>2</td>\n      <td>...</td>\n      <td></td>\n      <td></td>\n      <td>NaN</td>\n      <td>NaN</td>\n      <td>NaN</td>\n      <td>NaN</td>\n      <td>NaN</td>\n      <td>NaN</td>\n      <td>2.0</td>\n      <td>1.0</td>\n    </tr>\n  </tbody>\n</table>\n<p>5 rows × 454 columns</p>\n</div>"
     },
     "metadata": {},
     "execution_count": 13
    }
   ],
   "source": [
    "import pandas as pd\n",
    "df = pd.read_csv('assets/NISPUF17.csv')\n",
    "df.head(5)"
   ]
  },
  {
   "cell_type": "code",
   "execution_count": 15,
   "metadata": {},
   "outputs": [
    {
     "output_type": "execute_result",
     "data": {
      "text/plain": [
       "       UNNAMED: 0  SEQNUMC  SEQNUMHH  PDAT    PROVWT_D     RDDWT_D  STRATUM  \\\n",
       "0               1   128521     12852     2         NaN  235.916956     1031   \n",
       "1               2    10741      1074     2         NaN  957.353840     1068   \n",
       "2               3   220011     22001     2         NaN  189.611299     1050   \n",
       "3               4    86131      8613     1  675.430817  333.447418     1040   \n",
       "4               5   227141     22714     1  482.617748  278.768063     1008   \n",
       "...           ...      ...       ...   ...         ...         ...      ...   \n",
       "28460       28461    19141      1914     2         NaN   21.188088     2062   \n",
       "28461       28462   121401     12140     2         NaN   26.503010     2004   \n",
       "28462       28463   128831     12883     2         NaN   27.520652     2004   \n",
       "28463       28464    82921      8292     2         NaN   22.390587     2062   \n",
       "28464       28465   244621     24462     2         NaN   27.520652     2004   \n",
       "\n",
       "       YEAR  AGECPOXR  HAD_CPOX  ...  XVRCTY2  XVRCTY3  XVRCTY4  XVRCTY5  \\\n",
       "0      2017       NaN         2  ...                        NaN      NaN   \n",
       "1      2017       NaN         2  ...                        NaN      NaN   \n",
       "2      2017       NaN         2  ...                        NaN      NaN   \n",
       "3      2017       NaN         2  ...                        NaN      NaN   \n",
       "4      2017       NaN         2  ...                        NaN      NaN   \n",
       "...     ...       ...       ...  ...      ...      ...      ...      ...   \n",
       "28460  2017       NaN         2  ...                        NaN      NaN   \n",
       "28461  2017       NaN         2  ...                        NaN      NaN   \n",
       "28462  2017       NaN         2  ...                        NaN      NaN   \n",
       "28463  2017       NaN         2  ...                        NaN      NaN   \n",
       "28464  2017       NaN         2  ...                        NaN      NaN   \n",
       "\n",
       "       XVRCTY6  XVRCTY7  XVRCTY8  XVRCTY9  INS_STAT2_I  INS_BREAK_I  \n",
       "0          NaN      NaN      NaN      NaN          NaN          NaN  \n",
       "1          NaN      NaN      NaN      NaN          NaN          NaN  \n",
       "2          NaN      NaN      NaN      NaN          NaN          NaN  \n",
       "3          NaN      NaN      NaN      NaN          1.0          2.0  \n",
       "4          NaN      NaN      NaN      NaN          2.0          1.0  \n",
       "...        ...      ...      ...      ...          ...          ...  \n",
       "28460      NaN      NaN      NaN      NaN          NaN          NaN  \n",
       "28461      NaN      NaN      NaN      NaN          NaN          NaN  \n",
       "28462      NaN      NaN      NaN      NaN          NaN          NaN  \n",
       "28463      NaN      NaN      NaN      NaN          NaN          NaN  \n",
       "28464      NaN      NaN      NaN      NaN          NaN          NaN  \n",
       "\n",
       "[28465 rows x 454 columns]"
      ],
      "text/html": "<div>\n<style scoped>\n    .dataframe tbody tr th:only-of-type {\n        vertical-align: middle;\n    }\n\n    .dataframe tbody tr th {\n        vertical-align: top;\n    }\n\n    .dataframe thead th {\n        text-align: right;\n    }\n</style>\n<table border=\"1\" class=\"dataframe\">\n  <thead>\n    <tr style=\"text-align: right;\">\n      <th></th>\n      <th>UNNAMED: 0</th>\n      <th>SEQNUMC</th>\n      <th>SEQNUMHH</th>\n      <th>PDAT</th>\n      <th>PROVWT_D</th>\n      <th>RDDWT_D</th>\n      <th>STRATUM</th>\n      <th>YEAR</th>\n      <th>AGECPOXR</th>\n      <th>HAD_CPOX</th>\n      <th>...</th>\n      <th>XVRCTY2</th>\n      <th>XVRCTY3</th>\n      <th>XVRCTY4</th>\n      <th>XVRCTY5</th>\n      <th>XVRCTY6</th>\n      <th>XVRCTY7</th>\n      <th>XVRCTY8</th>\n      <th>XVRCTY9</th>\n      <th>INS_STAT2_I</th>\n      <th>INS_BREAK_I</th>\n    </tr>\n  </thead>\n  <tbody>\n    <tr>\n      <th>0</th>\n      <td>1</td>\n      <td>128521</td>\n      <td>12852</td>\n      <td>2</td>\n      <td>NaN</td>\n      <td>235.916956</td>\n      <td>1031</td>\n      <td>2017</td>\n      <td>NaN</td>\n      <td>2</td>\n      <td>...</td>\n      <td></td>\n      <td></td>\n      <td>NaN</td>\n      <td>NaN</td>\n      <td>NaN</td>\n      <td>NaN</td>\n      <td>NaN</td>\n      <td>NaN</td>\n      <td>NaN</td>\n      <td>NaN</td>\n    </tr>\n    <tr>\n      <th>1</th>\n      <td>2</td>\n      <td>10741</td>\n      <td>1074</td>\n      <td>2</td>\n      <td>NaN</td>\n      <td>957.353840</td>\n      <td>1068</td>\n      <td>2017</td>\n      <td>NaN</td>\n      <td>2</td>\n      <td>...</td>\n      <td></td>\n      <td></td>\n      <td>NaN</td>\n      <td>NaN</td>\n      <td>NaN</td>\n      <td>NaN</td>\n      <td>NaN</td>\n      <td>NaN</td>\n      <td>NaN</td>\n      <td>NaN</td>\n    </tr>\n    <tr>\n      <th>2</th>\n      <td>3</td>\n      <td>220011</td>\n      <td>22001</td>\n      <td>2</td>\n      <td>NaN</td>\n      <td>189.611299</td>\n      <td>1050</td>\n      <td>2017</td>\n      <td>NaN</td>\n      <td>2</td>\n      <td>...</td>\n      <td></td>\n      <td></td>\n      <td>NaN</td>\n      <td>NaN</td>\n      <td>NaN</td>\n      <td>NaN</td>\n      <td>NaN</td>\n      <td>NaN</td>\n      <td>NaN</td>\n      <td>NaN</td>\n    </tr>\n    <tr>\n      <th>3</th>\n      <td>4</td>\n      <td>86131</td>\n      <td>8613</td>\n      <td>1</td>\n      <td>675.430817</td>\n      <td>333.447418</td>\n      <td>1040</td>\n      <td>2017</td>\n      <td>NaN</td>\n      <td>2</td>\n      <td>...</td>\n      <td></td>\n      <td></td>\n      <td>NaN</td>\n      <td>NaN</td>\n      <td>NaN</td>\n      <td>NaN</td>\n      <td>NaN</td>\n      <td>NaN</td>\n      <td>1.0</td>\n      <td>2.0</td>\n    </tr>\n    <tr>\n      <th>4</th>\n      <td>5</td>\n      <td>227141</td>\n      <td>22714</td>\n      <td>1</td>\n      <td>482.617748</td>\n      <td>278.768063</td>\n      <td>1008</td>\n      <td>2017</td>\n      <td>NaN</td>\n      <td>2</td>\n      <td>...</td>\n      <td></td>\n      <td></td>\n      <td>NaN</td>\n      <td>NaN</td>\n      <td>NaN</td>\n      <td>NaN</td>\n      <td>NaN</td>\n      <td>NaN</td>\n      <td>2.0</td>\n      <td>1.0</td>\n    </tr>\n    <tr>\n      <th>...</th>\n      <td>...</td>\n      <td>...</td>\n      <td>...</td>\n      <td>...</td>\n      <td>...</td>\n      <td>...</td>\n      <td>...</td>\n      <td>...</td>\n      <td>...</td>\n      <td>...</td>\n      <td>...</td>\n      <td>...</td>\n      <td>...</td>\n      <td>...</td>\n      <td>...</td>\n      <td>...</td>\n      <td>...</td>\n      <td>...</td>\n      <td>...</td>\n      <td>...</td>\n      <td>...</td>\n    </tr>\n    <tr>\n      <th>28460</th>\n      <td>28461</td>\n      <td>19141</td>\n      <td>1914</td>\n      <td>2</td>\n      <td>NaN</td>\n      <td>21.188088</td>\n      <td>2062</td>\n      <td>2017</td>\n      <td>NaN</td>\n      <td>2</td>\n      <td>...</td>\n      <td></td>\n      <td></td>\n      <td>NaN</td>\n      <td>NaN</td>\n      <td>NaN</td>\n      <td>NaN</td>\n      <td>NaN</td>\n      <td>NaN</td>\n      <td>NaN</td>\n      <td>NaN</td>\n    </tr>\n    <tr>\n      <th>28461</th>\n      <td>28462</td>\n      <td>121401</td>\n      <td>12140</td>\n      <td>2</td>\n      <td>NaN</td>\n      <td>26.503010</td>\n      <td>2004</td>\n      <td>2017</td>\n      <td>NaN</td>\n      <td>2</td>\n      <td>...</td>\n      <td></td>\n      <td></td>\n      <td>NaN</td>\n      <td>NaN</td>\n      <td>NaN</td>\n      <td>NaN</td>\n      <td>NaN</td>\n      <td>NaN</td>\n      <td>NaN</td>\n      <td>NaN</td>\n    </tr>\n    <tr>\n      <th>28462</th>\n      <td>28463</td>\n      <td>128831</td>\n      <td>12883</td>\n      <td>2</td>\n      <td>NaN</td>\n      <td>27.520652</td>\n      <td>2004</td>\n      <td>2017</td>\n      <td>NaN</td>\n      <td>2</td>\n      <td>...</td>\n      <td></td>\n      <td></td>\n      <td>NaN</td>\n      <td>NaN</td>\n      <td>NaN</td>\n      <td>NaN</td>\n      <td>NaN</td>\n      <td>NaN</td>\n      <td>NaN</td>\n      <td>NaN</td>\n    </tr>\n    <tr>\n      <th>28463</th>\n      <td>28464</td>\n      <td>82921</td>\n      <td>8292</td>\n      <td>2</td>\n      <td>NaN</td>\n      <td>22.390587</td>\n      <td>2062</td>\n      <td>2017</td>\n      <td>NaN</td>\n      <td>2</td>\n      <td>...</td>\n      <td></td>\n      <td></td>\n      <td>NaN</td>\n      <td>NaN</td>\n      <td>NaN</td>\n      <td>NaN</td>\n      <td>NaN</td>\n      <td>NaN</td>\n      <td>NaN</td>\n      <td>NaN</td>\n    </tr>\n    <tr>\n      <th>28464</th>\n      <td>28465</td>\n      <td>244621</td>\n      <td>24462</td>\n      <td>2</td>\n      <td>NaN</td>\n      <td>27.520652</td>\n      <td>2004</td>\n      <td>2017</td>\n      <td>NaN</td>\n      <td>2</td>\n      <td>...</td>\n      <td></td>\n      <td></td>\n      <td>NaN</td>\n      <td>NaN</td>\n      <td>NaN</td>\n      <td>NaN</td>\n      <td>NaN</td>\n      <td>NaN</td>\n      <td>NaN</td>\n      <td>NaN</td>\n    </tr>\n  </tbody>\n</table>\n<p>28465 rows × 454 columns</p>\n</div>"
     },
     "metadata": {},
     "execution_count": 15
    }
   ],
   "source": [
    "df.rename(mapper = lambda x: x.upper(), axis = 1, inplace = True)\n",
    "df"
   ]
  },
  {
   "cell_type": "code",
   "execution_count": 23,
   "metadata": {},
   "outputs": [
    {
     "output_type": "execute_result",
     "data": {
      "text/plain": [
       "       unnamed: 0  seqnumc  seqnumhh  pdat    provwt_d     rddwt_d  stratum  \\\n",
       "0               1   128521     12852     2         NaN  235.916956     1031   \n",
       "1               2    10741      1074     2         NaN  957.353840     1068   \n",
       "2               3   220011     22001     2         NaN  189.611299     1050   \n",
       "3               4    86131      8613     1  675.430817  333.447418     1040   \n",
       "4               5   227141     22714     1  482.617748  278.768063     1008   \n",
       "...           ...      ...       ...   ...         ...         ...      ...   \n",
       "28460       28461    19141      1914     2         NaN   21.188088     2062   \n",
       "28461       28462   121401     12140     2         NaN   26.503010     2004   \n",
       "28462       28463   128831     12883     2         NaN   27.520652     2004   \n",
       "28463       28464    82921      8292     2         NaN   22.390587     2062   \n",
       "28464       28465   244621     24462     2         NaN   27.520652     2004   \n",
       "\n",
       "       year  agecpoxr  had_cpox  ...  xvrcty2  xvrcty3  xvrcty4  xvrcty5  \\\n",
       "0      2017       NaN         2  ...                        NaN      NaN   \n",
       "1      2017       NaN         2  ...                        NaN      NaN   \n",
       "2      2017       NaN         2  ...                        NaN      NaN   \n",
       "3      2017       NaN         2  ...                        NaN      NaN   \n",
       "4      2017       NaN         2  ...                        NaN      NaN   \n",
       "...     ...       ...       ...  ...      ...      ...      ...      ...   \n",
       "28460  2017       NaN         2  ...                        NaN      NaN   \n",
       "28461  2017       NaN         2  ...                        NaN      NaN   \n",
       "28462  2017       NaN         2  ...                        NaN      NaN   \n",
       "28463  2017       NaN         2  ...                        NaN      NaN   \n",
       "28464  2017       NaN         2  ...                        NaN      NaN   \n",
       "\n",
       "       xvrcty6  xvrcty7  xvrcty8  xvrcty9  ins_stat2_i  ins_break_i  \n",
       "0          NaN      NaN      NaN      NaN          NaN          NaN  \n",
       "1          NaN      NaN      NaN      NaN          NaN          NaN  \n",
       "2          NaN      NaN      NaN      NaN          NaN          NaN  \n",
       "3          NaN      NaN      NaN      NaN          1.0          2.0  \n",
       "4          NaN      NaN      NaN      NaN          2.0          1.0  \n",
       "...        ...      ...      ...      ...          ...          ...  \n",
       "28460      NaN      NaN      NaN      NaN          NaN          NaN  \n",
       "28461      NaN      NaN      NaN      NaN          NaN          NaN  \n",
       "28462      NaN      NaN      NaN      NaN          NaN          NaN  \n",
       "28463      NaN      NaN      NaN      NaN          NaN          NaN  \n",
       "28464      NaN      NaN      NaN      NaN          NaN          NaN  \n",
       "\n",
       "[28465 rows x 454 columns]"
      ],
      "text/html": "<div>\n<style scoped>\n    .dataframe tbody tr th:only-of-type {\n        vertical-align: middle;\n    }\n\n    .dataframe tbody tr th {\n        vertical-align: top;\n    }\n\n    .dataframe thead th {\n        text-align: right;\n    }\n</style>\n<table border=\"1\" class=\"dataframe\">\n  <thead>\n    <tr style=\"text-align: right;\">\n      <th></th>\n      <th>unnamed: 0</th>\n      <th>seqnumc</th>\n      <th>seqnumhh</th>\n      <th>pdat</th>\n      <th>provwt_d</th>\n      <th>rddwt_d</th>\n      <th>stratum</th>\n      <th>year</th>\n      <th>agecpoxr</th>\n      <th>had_cpox</th>\n      <th>...</th>\n      <th>xvrcty2</th>\n      <th>xvrcty3</th>\n      <th>xvrcty4</th>\n      <th>xvrcty5</th>\n      <th>xvrcty6</th>\n      <th>xvrcty7</th>\n      <th>xvrcty8</th>\n      <th>xvrcty9</th>\n      <th>ins_stat2_i</th>\n      <th>ins_break_i</th>\n    </tr>\n  </thead>\n  <tbody>\n    <tr>\n      <th>0</th>\n      <td>1</td>\n      <td>128521</td>\n      <td>12852</td>\n      <td>2</td>\n      <td>NaN</td>\n      <td>235.916956</td>\n      <td>1031</td>\n      <td>2017</td>\n      <td>NaN</td>\n      <td>2</td>\n      <td>...</td>\n      <td></td>\n      <td></td>\n      <td>NaN</td>\n      <td>NaN</td>\n      <td>NaN</td>\n      <td>NaN</td>\n      <td>NaN</td>\n      <td>NaN</td>\n      <td>NaN</td>\n      <td>NaN</td>\n    </tr>\n    <tr>\n      <th>1</th>\n      <td>2</td>\n      <td>10741</td>\n      <td>1074</td>\n      <td>2</td>\n      <td>NaN</td>\n      <td>957.353840</td>\n      <td>1068</td>\n      <td>2017</td>\n      <td>NaN</td>\n      <td>2</td>\n      <td>...</td>\n      <td></td>\n      <td></td>\n      <td>NaN</td>\n      <td>NaN</td>\n      <td>NaN</td>\n      <td>NaN</td>\n      <td>NaN</td>\n      <td>NaN</td>\n      <td>NaN</td>\n      <td>NaN</td>\n    </tr>\n    <tr>\n      <th>2</th>\n      <td>3</td>\n      <td>220011</td>\n      <td>22001</td>\n      <td>2</td>\n      <td>NaN</td>\n      <td>189.611299</td>\n      <td>1050</td>\n      <td>2017</td>\n      <td>NaN</td>\n      <td>2</td>\n      <td>...</td>\n      <td></td>\n      <td></td>\n      <td>NaN</td>\n      <td>NaN</td>\n      <td>NaN</td>\n      <td>NaN</td>\n      <td>NaN</td>\n      <td>NaN</td>\n      <td>NaN</td>\n      <td>NaN</td>\n    </tr>\n    <tr>\n      <th>3</th>\n      <td>4</td>\n      <td>86131</td>\n      <td>8613</td>\n      <td>1</td>\n      <td>675.430817</td>\n      <td>333.447418</td>\n      <td>1040</td>\n      <td>2017</td>\n      <td>NaN</td>\n      <td>2</td>\n      <td>...</td>\n      <td></td>\n      <td></td>\n      <td>NaN</td>\n      <td>NaN</td>\n      <td>NaN</td>\n      <td>NaN</td>\n      <td>NaN</td>\n      <td>NaN</td>\n      <td>1.0</td>\n      <td>2.0</td>\n    </tr>\n    <tr>\n      <th>4</th>\n      <td>5</td>\n      <td>227141</td>\n      <td>22714</td>\n      <td>1</td>\n      <td>482.617748</td>\n      <td>278.768063</td>\n      <td>1008</td>\n      <td>2017</td>\n      <td>NaN</td>\n      <td>2</td>\n      <td>...</td>\n      <td></td>\n      <td></td>\n      <td>NaN</td>\n      <td>NaN</td>\n      <td>NaN</td>\n      <td>NaN</td>\n      <td>NaN</td>\n      <td>NaN</td>\n      <td>2.0</td>\n      <td>1.0</td>\n    </tr>\n    <tr>\n      <th>...</th>\n      <td>...</td>\n      <td>...</td>\n      <td>...</td>\n      <td>...</td>\n      <td>...</td>\n      <td>...</td>\n      <td>...</td>\n      <td>...</td>\n      <td>...</td>\n      <td>...</td>\n      <td>...</td>\n      <td>...</td>\n      <td>...</td>\n      <td>...</td>\n      <td>...</td>\n      <td>...</td>\n      <td>...</td>\n      <td>...</td>\n      <td>...</td>\n      <td>...</td>\n      <td>...</td>\n    </tr>\n    <tr>\n      <th>28460</th>\n      <td>28461</td>\n      <td>19141</td>\n      <td>1914</td>\n      <td>2</td>\n      <td>NaN</td>\n      <td>21.188088</td>\n      <td>2062</td>\n      <td>2017</td>\n      <td>NaN</td>\n      <td>2</td>\n      <td>...</td>\n      <td></td>\n      <td></td>\n      <td>NaN</td>\n      <td>NaN</td>\n      <td>NaN</td>\n      <td>NaN</td>\n      <td>NaN</td>\n      <td>NaN</td>\n      <td>NaN</td>\n      <td>NaN</td>\n    </tr>\n    <tr>\n      <th>28461</th>\n      <td>28462</td>\n      <td>121401</td>\n      <td>12140</td>\n      <td>2</td>\n      <td>NaN</td>\n      <td>26.503010</td>\n      <td>2004</td>\n      <td>2017</td>\n      <td>NaN</td>\n      <td>2</td>\n      <td>...</td>\n      <td></td>\n      <td></td>\n      <td>NaN</td>\n      <td>NaN</td>\n      <td>NaN</td>\n      <td>NaN</td>\n      <td>NaN</td>\n      <td>NaN</td>\n      <td>NaN</td>\n      <td>NaN</td>\n    </tr>\n    <tr>\n      <th>28462</th>\n      <td>28463</td>\n      <td>128831</td>\n      <td>12883</td>\n      <td>2</td>\n      <td>NaN</td>\n      <td>27.520652</td>\n      <td>2004</td>\n      <td>2017</td>\n      <td>NaN</td>\n      <td>2</td>\n      <td>...</td>\n      <td></td>\n      <td></td>\n      <td>NaN</td>\n      <td>NaN</td>\n      <td>NaN</td>\n      <td>NaN</td>\n      <td>NaN</td>\n      <td>NaN</td>\n      <td>NaN</td>\n      <td>NaN</td>\n    </tr>\n    <tr>\n      <th>28463</th>\n      <td>28464</td>\n      <td>82921</td>\n      <td>8292</td>\n      <td>2</td>\n      <td>NaN</td>\n      <td>22.390587</td>\n      <td>2062</td>\n      <td>2017</td>\n      <td>NaN</td>\n      <td>2</td>\n      <td>...</td>\n      <td></td>\n      <td></td>\n      <td>NaN</td>\n      <td>NaN</td>\n      <td>NaN</td>\n      <td>NaN</td>\n      <td>NaN</td>\n      <td>NaN</td>\n      <td>NaN</td>\n      <td>NaN</td>\n    </tr>\n    <tr>\n      <th>28464</th>\n      <td>28465</td>\n      <td>244621</td>\n      <td>24462</td>\n      <td>2</td>\n      <td>NaN</td>\n      <td>27.520652</td>\n      <td>2004</td>\n      <td>2017</td>\n      <td>NaN</td>\n      <td>2</td>\n      <td>...</td>\n      <td></td>\n      <td></td>\n      <td>NaN</td>\n      <td>NaN</td>\n      <td>NaN</td>\n      <td>NaN</td>\n      <td>NaN</td>\n      <td>NaN</td>\n      <td>NaN</td>\n      <td>NaN</td>\n    </tr>\n  </tbody>\n</table>\n<p>28465 rows × 454 columns</p>\n</div>"
     },
     "metadata": {},
     "execution_count": 23
    }
   ],
   "source": [
    "df.rename(mapper = lambda x: x.lower(), axis = 1)"
   ]
  },
  {
   "cell_type": "code",
   "execution_count": 24,
   "metadata": {},
   "outputs": [
    {
     "output_type": "error",
     "ename": "ValueError",
     "evalue": "No axis named column for object type DataFrame",
     "traceback": [
      "\u001b[1;31m---------------------------------------------------------------------------\u001b[0m",
      "\u001b[1;31mKeyError\u001b[0m                                  Traceback (most recent call last)",
      "\u001b[1;32mC:\\Python374\\lib\\site-packages\\pandas\\core\\generic.py\u001b[0m in \u001b[0;36m_get_axis_number\u001b[1;34m(cls, axis)\u001b[0m\n\u001b[0;32m    459\u001b[0m         \u001b[1;32mtry\u001b[0m\u001b[1;33m:\u001b[0m\u001b[1;33m\u001b[0m\u001b[1;33m\u001b[0m\u001b[0m\n\u001b[1;32m--> 460\u001b[1;33m             \u001b[1;32mreturn\u001b[0m \u001b[0mcls\u001b[0m\u001b[1;33m.\u001b[0m\u001b[0m_AXIS_TO_AXIS_NUMBER\u001b[0m\u001b[1;33m[\u001b[0m\u001b[0maxis\u001b[0m\u001b[1;33m]\u001b[0m\u001b[1;33m\u001b[0m\u001b[1;33m\u001b[0m\u001b[0m\n\u001b[0m\u001b[0;32m    461\u001b[0m         \u001b[1;32mexcept\u001b[0m \u001b[0mKeyError\u001b[0m\u001b[1;33m:\u001b[0m\u001b[1;33m\u001b[0m\u001b[1;33m\u001b[0m\u001b[0m\n",
      "\u001b[1;31mKeyError\u001b[0m: 'column'",
      "\nDuring handling of the above exception, another exception occurred:\n",
      "\u001b[1;31mValueError\u001b[0m                                Traceback (most recent call last)",
      "\u001b[1;32m<ipython-input-24-99a7fb355a7a>\u001b[0m in \u001b[0;36m<module>\u001b[1;34m\u001b[0m\n\u001b[1;32m----> 1\u001b[1;33m \u001b[0mdf\u001b[0m \u001b[1;33m=\u001b[0m \u001b[0mdf\u001b[0m\u001b[1;33m.\u001b[0m\u001b[0mrename\u001b[0m\u001b[1;33m(\u001b[0m\u001b[0mmapper\u001b[0m \u001b[1;33m=\u001b[0m \u001b[1;32mlambda\u001b[0m \u001b[0mx\u001b[0m\u001b[1;33m:\u001b[0m \u001b[0mx\u001b[0m\u001b[1;33m.\u001b[0m\u001b[0mupper\u001b[0m\u001b[1;33m(\u001b[0m\u001b[1;33m)\u001b[0m\u001b[1;33m,\u001b[0m \u001b[0maxis\u001b[0m \u001b[1;33m=\u001b[0m \u001b[1;34m'column'\u001b[0m\u001b[1;33m)\u001b[0m\u001b[1;33m\u001b[0m\u001b[1;33m\u001b[0m\u001b[0m\n\u001b[0m",
      "\u001b[1;32mC:\\Python374\\lib\\site-packages\\pandas\\util\\_decorators.py\u001b[0m in \u001b[0;36mwrapper\u001b[1;34m(*args, **kwargs)\u001b[0m\n\u001b[0;32m    310\u001b[0m         \u001b[1;33m@\u001b[0m\u001b[0mwraps\u001b[0m\u001b[1;33m(\u001b[0m\u001b[0mfunc\u001b[0m\u001b[1;33m)\u001b[0m\u001b[1;33m\u001b[0m\u001b[1;33m\u001b[0m\u001b[0m\n\u001b[0;32m    311\u001b[0m         \u001b[1;32mdef\u001b[0m \u001b[0mwrapper\u001b[0m\u001b[1;33m(\u001b[0m\u001b[1;33m*\u001b[0m\u001b[0margs\u001b[0m\u001b[1;33m,\u001b[0m \u001b[1;33m**\u001b[0m\u001b[0mkwargs\u001b[0m\u001b[1;33m)\u001b[0m \u001b[1;33m->\u001b[0m \u001b[0mCallable\u001b[0m\u001b[1;33m[\u001b[0m\u001b[1;33m...\u001b[0m\u001b[1;33m,\u001b[0m \u001b[0mAny\u001b[0m\u001b[1;33m]\u001b[0m\u001b[1;33m:\u001b[0m\u001b[1;33m\u001b[0m\u001b[1;33m\u001b[0m\u001b[0m\n\u001b[1;32m--> 312\u001b[1;33m             \u001b[1;32mreturn\u001b[0m \u001b[0mfunc\u001b[0m\u001b[1;33m(\u001b[0m\u001b[1;33m*\u001b[0m\u001b[0margs\u001b[0m\u001b[1;33m,\u001b[0m \u001b[1;33m**\u001b[0m\u001b[0mkwargs\u001b[0m\u001b[1;33m)\u001b[0m\u001b[1;33m\u001b[0m\u001b[1;33m\u001b[0m\u001b[0m\n\u001b[0m\u001b[0;32m    313\u001b[0m \u001b[1;33m\u001b[0m\u001b[0m\n\u001b[0;32m    314\u001b[0m         \u001b[0mkind\u001b[0m \u001b[1;33m=\u001b[0m \u001b[0minspect\u001b[0m\u001b[1;33m.\u001b[0m\u001b[0mParameter\u001b[0m\u001b[1;33m.\u001b[0m\u001b[0mPOSITIONAL_OR_KEYWORD\u001b[0m\u001b[1;33m\u001b[0m\u001b[1;33m\u001b[0m\u001b[0m\n",
      "\u001b[1;32mC:\\Python374\\lib\\site-packages\\pandas\\core\\frame.py\u001b[0m in \u001b[0;36mrename\u001b[1;34m(self, mapper, index, columns, axis, copy, inplace, level, errors)\u001b[0m\n\u001b[0;32m   4447\u001b[0m             \u001b[0minplace\u001b[0m\u001b[1;33m=\u001b[0m\u001b[0minplace\u001b[0m\u001b[1;33m,\u001b[0m\u001b[1;33m\u001b[0m\u001b[1;33m\u001b[0m\u001b[0m\n\u001b[0;32m   4448\u001b[0m             \u001b[0mlevel\u001b[0m\u001b[1;33m=\u001b[0m\u001b[0mlevel\u001b[0m\u001b[1;33m,\u001b[0m\u001b[1;33m\u001b[0m\u001b[1;33m\u001b[0m\u001b[0m\n\u001b[1;32m-> 4449\u001b[1;33m             \u001b[0merrors\u001b[0m\u001b[1;33m=\u001b[0m\u001b[0merrors\u001b[0m\u001b[1;33m,\u001b[0m\u001b[1;33m\u001b[0m\u001b[1;33m\u001b[0m\u001b[0m\n\u001b[0m\u001b[0;32m   4450\u001b[0m         )\n\u001b[0;32m   4451\u001b[0m \u001b[1;33m\u001b[0m\u001b[0m\n",
      "\u001b[1;32mC:\\Python374\\lib\\site-packages\\pandas\\core\\generic.py\u001b[0m in \u001b[0;36mrename\u001b[1;34m(self, mapper, index, columns, axis, copy, inplace, level, errors)\u001b[0m\n\u001b[0;32m   1026\u001b[0m         \u001b[1;32melse\u001b[0m\u001b[1;33m:\u001b[0m\u001b[1;33m\u001b[0m\u001b[1;33m\u001b[0m\u001b[0m\n\u001b[0;32m   1027\u001b[0m             \u001b[1;31m# use the mapper argument\u001b[0m\u001b[1;33m\u001b[0m\u001b[1;33m\u001b[0m\u001b[1;33m\u001b[0m\u001b[0m\n\u001b[1;32m-> 1028\u001b[1;33m             \u001b[1;32mif\u001b[0m \u001b[0maxis\u001b[0m \u001b[1;32mand\u001b[0m \u001b[0mself\u001b[0m\u001b[1;33m.\u001b[0m\u001b[0m_get_axis_number\u001b[0m\u001b[1;33m(\u001b[0m\u001b[0maxis\u001b[0m\u001b[1;33m)\u001b[0m \u001b[1;33m==\u001b[0m \u001b[1;36m1\u001b[0m\u001b[1;33m:\u001b[0m\u001b[1;33m\u001b[0m\u001b[1;33m\u001b[0m\u001b[0m\n\u001b[0m\u001b[0;32m   1029\u001b[0m                 \u001b[0mcolumns\u001b[0m \u001b[1;33m=\u001b[0m \u001b[0mmapper\u001b[0m\u001b[1;33m\u001b[0m\u001b[1;33m\u001b[0m\u001b[0m\n\u001b[0;32m   1030\u001b[0m             \u001b[1;32melse\u001b[0m\u001b[1;33m:\u001b[0m\u001b[1;33m\u001b[0m\u001b[1;33m\u001b[0m\u001b[0m\n",
      "\u001b[1;32mC:\\Python374\\lib\\site-packages\\pandas\\core\\generic.py\u001b[0m in \u001b[0;36m_get_axis_number\u001b[1;34m(cls, axis)\u001b[0m\n\u001b[0;32m    460\u001b[0m             \u001b[1;32mreturn\u001b[0m \u001b[0mcls\u001b[0m\u001b[1;33m.\u001b[0m\u001b[0m_AXIS_TO_AXIS_NUMBER\u001b[0m\u001b[1;33m[\u001b[0m\u001b[0maxis\u001b[0m\u001b[1;33m]\u001b[0m\u001b[1;33m\u001b[0m\u001b[1;33m\u001b[0m\u001b[0m\n\u001b[0;32m    461\u001b[0m         \u001b[1;32mexcept\u001b[0m \u001b[0mKeyError\u001b[0m\u001b[1;33m:\u001b[0m\u001b[1;33m\u001b[0m\u001b[1;33m\u001b[0m\u001b[0m\n\u001b[1;32m--> 462\u001b[1;33m             \u001b[1;32mraise\u001b[0m \u001b[0mValueError\u001b[0m\u001b[1;33m(\u001b[0m\u001b[1;34mf\"No axis named {axis} for object type {cls.__name__}\"\u001b[0m\u001b[1;33m)\u001b[0m\u001b[1;33m\u001b[0m\u001b[1;33m\u001b[0m\u001b[0m\n\u001b[0m\u001b[0;32m    463\u001b[0m \u001b[1;33m\u001b[0m\u001b[0m\n\u001b[0;32m    464\u001b[0m     \u001b[1;33m@\u001b[0m\u001b[0mfinal\u001b[0m\u001b[1;33m\u001b[0m\u001b[1;33m\u001b[0m\u001b[0m\n",
      "\u001b[1;31mValueError\u001b[0m: No axis named column for object type DataFrame"
     ]
    }
   ],
   "source": [
    "df = df.rename(mapper = lambda x: x.upper(), axis = 'column')"
   ]
  },
  {
   "cell_type": "code",
   "execution_count": 17,
   "metadata": {},
   "outputs": [
    {
     "output_type": "execute_result",
     "data": {
      "text/plain": [
       "Empty DataFrame\n",
       "Columns: [UNNAMED: 0, SEQNUMC, SEQNUMHH, PDAT, PROVWT_D, RDDWT_D, STRATUM, YEAR, AGECPOXR, HAD_CPOX, AGEGRP, BF_ENDR06, BF_EXCLR06, BF_FORMR08, BFENDFL06, BFFORMFL06, C1R, C5R, CBF_01, CEN_REG, CHILDNM, CWIC_01, CWIC_02, EDUC1, FRSTBRN, I_HISP_K, INCPORAR, INCPORAR_I, INCPOV1, INCQ298A, LANGUAGE, M_AGEGRP2, MARITAL2, MOBIL_I, NUM_PHONE, NUM_CELLS_HH, NUM_CELLS_PARENTS, RACE_K, RACEETHK, RENT_OWN, SEX, ESTIAP17, EST_GRANT, STATE, D6R, D7, N_PRVR, PROV_FAC, REGISTRY, VFC_ORDER, HEP_BRTH, HEP_FLAG, P_NUHEPX, P_NUHIBX, P_NUHPHB, P_NUMDAH, P_NUMDHI, P_NUMDIH, P_NUMDTA, P_NUMDTP, P_NUMFLU, P_NUMFLUL, P_NUMFLUM, P_NUMFLUN, P_NUMHEA, P_NUMHEN, P_NUMHEP, P_NUMHG, P_NUMHHY, P_NUMHIB, P_NUMHIN, P_NUMHION, P_NUMHM, P_NUMHS, P_NUMIPV, P_NUMMCN, P_NUMMMR, P_NUMMMRX, P_NUMMMX, P_NUMMP, P_NUMMPR, P_NUMMRV, P_NUMMS, P_NUMMSM, P_NUMMSR, P_NUMOLN, P_NUMOPV, P_NUMPCV, P_NUMPCP, P_NUMPCC, P_NUMPCC7, P_NUMPCC13, P_NUMPCCN, P_NUMPCN, P_NUMPOL, P_NUMRB, P_NUMRG, P_NUMRM, P_NUMRO, P_NUMROT, ...]\n",
       "Index: []\n",
       "\n",
       "[0 rows x 454 columns]"
      ],
      "text/html": "<div>\n<style scoped>\n    .dataframe tbody tr th:only-of-type {\n        vertical-align: middle;\n    }\n\n    .dataframe tbody tr th {\n        vertical-align: top;\n    }\n\n    .dataframe thead th {\n        text-align: right;\n    }\n</style>\n<table border=\"1\" class=\"dataframe\">\n  <thead>\n    <tr style=\"text-align: right;\">\n      <th></th>\n      <th>UNNAMED: 0</th>\n      <th>SEQNUMC</th>\n      <th>SEQNUMHH</th>\n      <th>PDAT</th>\n      <th>PROVWT_D</th>\n      <th>RDDWT_D</th>\n      <th>STRATUM</th>\n      <th>YEAR</th>\n      <th>AGECPOXR</th>\n      <th>HAD_CPOX</th>\n      <th>...</th>\n      <th>XVRCTY2</th>\n      <th>XVRCTY3</th>\n      <th>XVRCTY4</th>\n      <th>XVRCTY5</th>\n      <th>XVRCTY6</th>\n      <th>XVRCTY7</th>\n      <th>XVRCTY8</th>\n      <th>XVRCTY9</th>\n      <th>INS_STAT2_I</th>\n      <th>INS_BREAK_I</th>\n    </tr>\n  </thead>\n  <tbody>\n  </tbody>\n</table>\n<p>0 rows × 454 columns</p>\n</div>"
     },
     "metadata": {},
     "execution_count": 17
    }
   ],
   "source": [
    "df.where(df['STRATUM'] > 2000).dropna()"
   ]
  },
  {
   "cell_type": "code",
   "execution_count": 19,
   "metadata": {},
   "outputs": [
    {
     "output_type": "execute_result",
     "data": {
      "text/plain": [
       "       UNNAMED: 0  SEQNUMC  SEQNUMHH  PDAT    PROVWT_D     RDDWT_D  STRATUM  \\\n",
       "618           619   207311     20731     2         NaN  656.398456     2058   \n",
       "619           620   118991     11899     1   84.503735   54.116625     2053   \n",
       "620           621    52381      5238     2         NaN  248.674249     2028   \n",
       "621           622   192081     19208     1  989.153596  375.556615     2010   \n",
       "622           623   167791     16779     1  947.275494  433.480056     2054   \n",
       "...           ...      ...       ...   ...         ...         ...      ...   \n",
       "28460       28461    19141      1914     2         NaN   21.188088     2062   \n",
       "28461       28462   121401     12140     2         NaN   26.503010     2004   \n",
       "28462       28463   128831     12883     2         NaN   27.520652     2004   \n",
       "28463       28464    82921      8292     2         NaN   22.390587     2062   \n",
       "28464       28465   244621     24462     2         NaN   27.520652     2004   \n",
       "\n",
       "       YEAR  AGECPOXR  HAD_CPOX  ...  XVRCTY2  XVRCTY3  XVRCTY4  XVRCTY5  \\\n",
       "618    2017       NaN         2  ...                        NaN      NaN   \n",
       "619    2017       NaN         2  ...                        NaN      NaN   \n",
       "620    2017       NaN         2  ...                        NaN      NaN   \n",
       "621    2017       NaN         2  ...                        NaN      NaN   \n",
       "622    2017       NaN         2  ...                        NaN      NaN   \n",
       "...     ...       ...       ...  ...      ...      ...      ...      ...   \n",
       "28460  2017       NaN         2  ...                        NaN      NaN   \n",
       "28461  2017       NaN         2  ...                        NaN      NaN   \n",
       "28462  2017       NaN         2  ...                        NaN      NaN   \n",
       "28463  2017       NaN         2  ...                        NaN      NaN   \n",
       "28464  2017       NaN         2  ...                        NaN      NaN   \n",
       "\n",
       "       XVRCTY6  XVRCTY7  XVRCTY8  XVRCTY9  INS_STAT2_I  INS_BREAK_I  \n",
       "618        NaN      NaN      NaN      NaN          NaN          NaN  \n",
       "619        NaN      NaN      NaN      NaN          1.0          2.0  \n",
       "620        NaN      NaN      NaN      NaN          NaN          NaN  \n",
       "621        NaN      NaN      NaN      NaN          1.0          2.0  \n",
       "622        NaN      NaN      NaN      NaN          1.0          2.0  \n",
       "...        ...      ...      ...      ...          ...          ...  \n",
       "28460      NaN      NaN      NaN      NaN          NaN          NaN  \n",
       "28461      NaN      NaN      NaN      NaN          NaN          NaN  \n",
       "28462      NaN      NaN      NaN      NaN          NaN          NaN  \n",
       "28463      NaN      NaN      NaN      NaN          NaN          NaN  \n",
       "28464      NaN      NaN      NaN      NaN          NaN          NaN  \n",
       "\n",
       "[26230 rows x 454 columns]"
      ],
      "text/html": "<div>\n<style scoped>\n    .dataframe tbody tr th:only-of-type {\n        vertical-align: middle;\n    }\n\n    .dataframe tbody tr th {\n        vertical-align: top;\n    }\n\n    .dataframe thead th {\n        text-align: right;\n    }\n</style>\n<table border=\"1\" class=\"dataframe\">\n  <thead>\n    <tr style=\"text-align: right;\">\n      <th></th>\n      <th>UNNAMED: 0</th>\n      <th>SEQNUMC</th>\n      <th>SEQNUMHH</th>\n      <th>PDAT</th>\n      <th>PROVWT_D</th>\n      <th>RDDWT_D</th>\n      <th>STRATUM</th>\n      <th>YEAR</th>\n      <th>AGECPOXR</th>\n      <th>HAD_CPOX</th>\n      <th>...</th>\n      <th>XVRCTY2</th>\n      <th>XVRCTY3</th>\n      <th>XVRCTY4</th>\n      <th>XVRCTY5</th>\n      <th>XVRCTY6</th>\n      <th>XVRCTY7</th>\n      <th>XVRCTY8</th>\n      <th>XVRCTY9</th>\n      <th>INS_STAT2_I</th>\n      <th>INS_BREAK_I</th>\n    </tr>\n  </thead>\n  <tbody>\n    <tr>\n      <th>618</th>\n      <td>619</td>\n      <td>207311</td>\n      <td>20731</td>\n      <td>2</td>\n      <td>NaN</td>\n      <td>656.398456</td>\n      <td>2058</td>\n      <td>2017</td>\n      <td>NaN</td>\n      <td>2</td>\n      <td>...</td>\n      <td></td>\n      <td></td>\n      <td>NaN</td>\n      <td>NaN</td>\n      <td>NaN</td>\n      <td>NaN</td>\n      <td>NaN</td>\n      <td>NaN</td>\n      <td>NaN</td>\n      <td>NaN</td>\n    </tr>\n    <tr>\n      <th>619</th>\n      <td>620</td>\n      <td>118991</td>\n      <td>11899</td>\n      <td>1</td>\n      <td>84.503735</td>\n      <td>54.116625</td>\n      <td>2053</td>\n      <td>2017</td>\n      <td>NaN</td>\n      <td>2</td>\n      <td>...</td>\n      <td></td>\n      <td></td>\n      <td>NaN</td>\n      <td>NaN</td>\n      <td>NaN</td>\n      <td>NaN</td>\n      <td>NaN</td>\n      <td>NaN</td>\n      <td>1.0</td>\n      <td>2.0</td>\n    </tr>\n    <tr>\n      <th>620</th>\n      <td>621</td>\n      <td>52381</td>\n      <td>5238</td>\n      <td>2</td>\n      <td>NaN</td>\n      <td>248.674249</td>\n      <td>2028</td>\n      <td>2017</td>\n      <td>NaN</td>\n      <td>2</td>\n      <td>...</td>\n      <td></td>\n      <td></td>\n      <td>NaN</td>\n      <td>NaN</td>\n      <td>NaN</td>\n      <td>NaN</td>\n      <td>NaN</td>\n      <td>NaN</td>\n      <td>NaN</td>\n      <td>NaN</td>\n    </tr>\n    <tr>\n      <th>621</th>\n      <td>622</td>\n      <td>192081</td>\n      <td>19208</td>\n      <td>1</td>\n      <td>989.153596</td>\n      <td>375.556615</td>\n      <td>2010</td>\n      <td>2017</td>\n      <td>NaN</td>\n      <td>2</td>\n      <td>...</td>\n      <td></td>\n      <td></td>\n      <td>NaN</td>\n      <td>NaN</td>\n      <td>NaN</td>\n      <td>NaN</td>\n      <td>NaN</td>\n      <td>NaN</td>\n      <td>1.0</td>\n      <td>2.0</td>\n    </tr>\n    <tr>\n      <th>622</th>\n      <td>623</td>\n      <td>167791</td>\n      <td>16779</td>\n      <td>1</td>\n      <td>947.275494</td>\n      <td>433.480056</td>\n      <td>2054</td>\n      <td>2017</td>\n      <td>NaN</td>\n      <td>2</td>\n      <td>...</td>\n      <td></td>\n      <td></td>\n      <td>NaN</td>\n      <td>NaN</td>\n      <td>NaN</td>\n      <td>NaN</td>\n      <td>NaN</td>\n      <td>NaN</td>\n      <td>1.0</td>\n      <td>2.0</td>\n    </tr>\n    <tr>\n      <th>...</th>\n      <td>...</td>\n      <td>...</td>\n      <td>...</td>\n      <td>...</td>\n      <td>...</td>\n      <td>...</td>\n      <td>...</td>\n      <td>...</td>\n      <td>...</td>\n      <td>...</td>\n      <td>...</td>\n      <td>...</td>\n      <td>...</td>\n      <td>...</td>\n      <td>...</td>\n      <td>...</td>\n      <td>...</td>\n      <td>...</td>\n      <td>...</td>\n      <td>...</td>\n      <td>...</td>\n    </tr>\n    <tr>\n      <th>28460</th>\n      <td>28461</td>\n      <td>19141</td>\n      <td>1914</td>\n      <td>2</td>\n      <td>NaN</td>\n      <td>21.188088</td>\n      <td>2062</td>\n      <td>2017</td>\n      <td>NaN</td>\n      <td>2</td>\n      <td>...</td>\n      <td></td>\n      <td></td>\n      <td>NaN</td>\n      <td>NaN</td>\n      <td>NaN</td>\n      <td>NaN</td>\n      <td>NaN</td>\n      <td>NaN</td>\n      <td>NaN</td>\n      <td>NaN</td>\n    </tr>\n    <tr>\n      <th>28461</th>\n      <td>28462</td>\n      <td>121401</td>\n      <td>12140</td>\n      <td>2</td>\n      <td>NaN</td>\n      <td>26.503010</td>\n      <td>2004</td>\n      <td>2017</td>\n      <td>NaN</td>\n      <td>2</td>\n      <td>...</td>\n      <td></td>\n      <td></td>\n      <td>NaN</td>\n      <td>NaN</td>\n      <td>NaN</td>\n      <td>NaN</td>\n      <td>NaN</td>\n      <td>NaN</td>\n      <td>NaN</td>\n      <td>NaN</td>\n    </tr>\n    <tr>\n      <th>28462</th>\n      <td>28463</td>\n      <td>128831</td>\n      <td>12883</td>\n      <td>2</td>\n      <td>NaN</td>\n      <td>27.520652</td>\n      <td>2004</td>\n      <td>2017</td>\n      <td>NaN</td>\n      <td>2</td>\n      <td>...</td>\n      <td></td>\n      <td></td>\n      <td>NaN</td>\n      <td>NaN</td>\n      <td>NaN</td>\n      <td>NaN</td>\n      <td>NaN</td>\n      <td>NaN</td>\n      <td>NaN</td>\n      <td>NaN</td>\n    </tr>\n    <tr>\n      <th>28463</th>\n      <td>28464</td>\n      <td>82921</td>\n      <td>8292</td>\n      <td>2</td>\n      <td>NaN</td>\n      <td>22.390587</td>\n      <td>2062</td>\n      <td>2017</td>\n      <td>NaN</td>\n      <td>2</td>\n      <td>...</td>\n      <td></td>\n      <td></td>\n      <td>NaN</td>\n      <td>NaN</td>\n      <td>NaN</td>\n      <td>NaN</td>\n      <td>NaN</td>\n      <td>NaN</td>\n      <td>NaN</td>\n      <td>NaN</td>\n    </tr>\n    <tr>\n      <th>28464</th>\n      <td>28465</td>\n      <td>244621</td>\n      <td>24462</td>\n      <td>2</td>\n      <td>NaN</td>\n      <td>27.520652</td>\n      <td>2004</td>\n      <td>2017</td>\n      <td>NaN</td>\n      <td>2</td>\n      <td>...</td>\n      <td></td>\n      <td></td>\n      <td>NaN</td>\n      <td>NaN</td>\n      <td>NaN</td>\n      <td>NaN</td>\n      <td>NaN</td>\n      <td>NaN</td>\n      <td>NaN</td>\n      <td>NaN</td>\n    </tr>\n  </tbody>\n</table>\n<p>26230 rows × 454 columns</p>\n</div>"
     },
     "metadata": {},
     "execution_count": 19
    }
   ],
   "source": [
    "df[df['STRATUM'] > 2000]"
   ]
  },
  {
   "cell_type": "code",
   "execution_count": 20,
   "metadata": {},
   "outputs": [
    {
     "output_type": "execute_result",
     "data": {
      "text/plain": [
       "       UNNAMED: 0   SEQNUMC  SEQNUMHH  PDAT  PROVWT_D    RDDWT_D  STRATUM  \\\n",
       "0             NaN       NaN       NaN   NaN       NaN        NaN      NaN   \n",
       "1             NaN       NaN       NaN   NaN       NaN        NaN      NaN   \n",
       "2             NaN       NaN       NaN   NaN       NaN        NaN      NaN   \n",
       "3             NaN       NaN       NaN   NaN       NaN        NaN      NaN   \n",
       "4             NaN       NaN       NaN   NaN       NaN        NaN      NaN   \n",
       "...           ...       ...       ...   ...       ...        ...      ...   \n",
       "28460     28461.0   19141.0    1914.0   2.0       NaN  21.188088   2062.0   \n",
       "28461     28462.0  121401.0   12140.0   2.0       NaN  26.503010   2004.0   \n",
       "28462     28463.0  128831.0   12883.0   2.0       NaN  27.520652   2004.0   \n",
       "28463     28464.0   82921.0    8292.0   2.0       NaN  22.390587   2062.0   \n",
       "28464     28465.0  244621.0   24462.0   2.0       NaN  27.520652   2004.0   \n",
       "\n",
       "         YEAR  AGECPOXR  HAD_CPOX  ...  XVRCTY2  XVRCTY3  XVRCTY4  XVRCTY5  \\\n",
       "0         NaN       NaN       NaN  ...      NaN      NaN      NaN      NaN   \n",
       "1         NaN       NaN       NaN  ...      NaN      NaN      NaN      NaN   \n",
       "2         NaN       NaN       NaN  ...      NaN      NaN      NaN      NaN   \n",
       "3         NaN       NaN       NaN  ...      NaN      NaN      NaN      NaN   \n",
       "4         NaN       NaN       NaN  ...      NaN      NaN      NaN      NaN   \n",
       "...       ...       ...       ...  ...      ...      ...      ...      ...   \n",
       "28460  2017.0       NaN       2.0  ...                        NaN      NaN   \n",
       "28461  2017.0       NaN       2.0  ...                        NaN      NaN   \n",
       "28462  2017.0       NaN       2.0  ...                        NaN      NaN   \n",
       "28463  2017.0       NaN       2.0  ...                        NaN      NaN   \n",
       "28464  2017.0       NaN       2.0  ...                        NaN      NaN   \n",
       "\n",
       "       XVRCTY6  XVRCTY7  XVRCTY8  XVRCTY9  INS_STAT2_I  INS_BREAK_I  \n",
       "0          NaN      NaN      NaN      NaN          NaN          NaN  \n",
       "1          NaN      NaN      NaN      NaN          NaN          NaN  \n",
       "2          NaN      NaN      NaN      NaN          NaN          NaN  \n",
       "3          NaN      NaN      NaN      NaN          NaN          NaN  \n",
       "4          NaN      NaN      NaN      NaN          NaN          NaN  \n",
       "...        ...      ...      ...      ...          ...          ...  \n",
       "28460      NaN      NaN      NaN      NaN          NaN          NaN  \n",
       "28461      NaN      NaN      NaN      NaN          NaN          NaN  \n",
       "28462      NaN      NaN      NaN      NaN          NaN          NaN  \n",
       "28463      NaN      NaN      NaN      NaN          NaN          NaN  \n",
       "28464      NaN      NaN      NaN      NaN          NaN          NaN  \n",
       "\n",
       "[28465 rows x 454 columns]"
      ],
      "text/html": "<div>\n<style scoped>\n    .dataframe tbody tr th:only-of-type {\n        vertical-align: middle;\n    }\n\n    .dataframe tbody tr th {\n        vertical-align: top;\n    }\n\n    .dataframe thead th {\n        text-align: right;\n    }\n</style>\n<table border=\"1\" class=\"dataframe\">\n  <thead>\n    <tr style=\"text-align: right;\">\n      <th></th>\n      <th>UNNAMED: 0</th>\n      <th>SEQNUMC</th>\n      <th>SEQNUMHH</th>\n      <th>PDAT</th>\n      <th>PROVWT_D</th>\n      <th>RDDWT_D</th>\n      <th>STRATUM</th>\n      <th>YEAR</th>\n      <th>AGECPOXR</th>\n      <th>HAD_CPOX</th>\n      <th>...</th>\n      <th>XVRCTY2</th>\n      <th>XVRCTY3</th>\n      <th>XVRCTY4</th>\n      <th>XVRCTY5</th>\n      <th>XVRCTY6</th>\n      <th>XVRCTY7</th>\n      <th>XVRCTY8</th>\n      <th>XVRCTY9</th>\n      <th>INS_STAT2_I</th>\n      <th>INS_BREAK_I</th>\n    </tr>\n  </thead>\n  <tbody>\n    <tr>\n      <th>0</th>\n      <td>NaN</td>\n      <td>NaN</td>\n      <td>NaN</td>\n      <td>NaN</td>\n      <td>NaN</td>\n      <td>NaN</td>\n      <td>NaN</td>\n      <td>NaN</td>\n      <td>NaN</td>\n      <td>NaN</td>\n      <td>...</td>\n      <td>NaN</td>\n      <td>NaN</td>\n      <td>NaN</td>\n      <td>NaN</td>\n      <td>NaN</td>\n      <td>NaN</td>\n      <td>NaN</td>\n      <td>NaN</td>\n      <td>NaN</td>\n      <td>NaN</td>\n    </tr>\n    <tr>\n      <th>1</th>\n      <td>NaN</td>\n      <td>NaN</td>\n      <td>NaN</td>\n      <td>NaN</td>\n      <td>NaN</td>\n      <td>NaN</td>\n      <td>NaN</td>\n      <td>NaN</td>\n      <td>NaN</td>\n      <td>NaN</td>\n      <td>...</td>\n      <td>NaN</td>\n      <td>NaN</td>\n      <td>NaN</td>\n      <td>NaN</td>\n      <td>NaN</td>\n      <td>NaN</td>\n      <td>NaN</td>\n      <td>NaN</td>\n      <td>NaN</td>\n      <td>NaN</td>\n    </tr>\n    <tr>\n      <th>2</th>\n      <td>NaN</td>\n      <td>NaN</td>\n      <td>NaN</td>\n      <td>NaN</td>\n      <td>NaN</td>\n      <td>NaN</td>\n      <td>NaN</td>\n      <td>NaN</td>\n      <td>NaN</td>\n      <td>NaN</td>\n      <td>...</td>\n      <td>NaN</td>\n      <td>NaN</td>\n      <td>NaN</td>\n      <td>NaN</td>\n      <td>NaN</td>\n      <td>NaN</td>\n      <td>NaN</td>\n      <td>NaN</td>\n      <td>NaN</td>\n      <td>NaN</td>\n    </tr>\n    <tr>\n      <th>3</th>\n      <td>NaN</td>\n      <td>NaN</td>\n      <td>NaN</td>\n      <td>NaN</td>\n      <td>NaN</td>\n      <td>NaN</td>\n      <td>NaN</td>\n      <td>NaN</td>\n      <td>NaN</td>\n      <td>NaN</td>\n      <td>...</td>\n      <td>NaN</td>\n      <td>NaN</td>\n      <td>NaN</td>\n      <td>NaN</td>\n      <td>NaN</td>\n      <td>NaN</td>\n      <td>NaN</td>\n      <td>NaN</td>\n      <td>NaN</td>\n      <td>NaN</td>\n    </tr>\n    <tr>\n      <th>4</th>\n      <td>NaN</td>\n      <td>NaN</td>\n      <td>NaN</td>\n      <td>NaN</td>\n      <td>NaN</td>\n      <td>NaN</td>\n      <td>NaN</td>\n      <td>NaN</td>\n      <td>NaN</td>\n      <td>NaN</td>\n      <td>...</td>\n      <td>NaN</td>\n      <td>NaN</td>\n      <td>NaN</td>\n      <td>NaN</td>\n      <td>NaN</td>\n      <td>NaN</td>\n      <td>NaN</td>\n      <td>NaN</td>\n      <td>NaN</td>\n      <td>NaN</td>\n    </tr>\n    <tr>\n      <th>...</th>\n      <td>...</td>\n      <td>...</td>\n      <td>...</td>\n      <td>...</td>\n      <td>...</td>\n      <td>...</td>\n      <td>...</td>\n      <td>...</td>\n      <td>...</td>\n      <td>...</td>\n      <td>...</td>\n      <td>...</td>\n      <td>...</td>\n      <td>...</td>\n      <td>...</td>\n      <td>...</td>\n      <td>...</td>\n      <td>...</td>\n      <td>...</td>\n      <td>...</td>\n      <td>...</td>\n    </tr>\n    <tr>\n      <th>28460</th>\n      <td>28461.0</td>\n      <td>19141.0</td>\n      <td>1914.0</td>\n      <td>2.0</td>\n      <td>NaN</td>\n      <td>21.188088</td>\n      <td>2062.0</td>\n      <td>2017.0</td>\n      <td>NaN</td>\n      <td>2.0</td>\n      <td>...</td>\n      <td></td>\n      <td></td>\n      <td>NaN</td>\n      <td>NaN</td>\n      <td>NaN</td>\n      <td>NaN</td>\n      <td>NaN</td>\n      <td>NaN</td>\n      <td>NaN</td>\n      <td>NaN</td>\n    </tr>\n    <tr>\n      <th>28461</th>\n      <td>28462.0</td>\n      <td>121401.0</td>\n      <td>12140.0</td>\n      <td>2.0</td>\n      <td>NaN</td>\n      <td>26.503010</td>\n      <td>2004.0</td>\n      <td>2017.0</td>\n      <td>NaN</td>\n      <td>2.0</td>\n      <td>...</td>\n      <td></td>\n      <td></td>\n      <td>NaN</td>\n      <td>NaN</td>\n      <td>NaN</td>\n      <td>NaN</td>\n      <td>NaN</td>\n      <td>NaN</td>\n      <td>NaN</td>\n      <td>NaN</td>\n    </tr>\n    <tr>\n      <th>28462</th>\n      <td>28463.0</td>\n      <td>128831.0</td>\n      <td>12883.0</td>\n      <td>2.0</td>\n      <td>NaN</td>\n      <td>27.520652</td>\n      <td>2004.0</td>\n      <td>2017.0</td>\n      <td>NaN</td>\n      <td>2.0</td>\n      <td>...</td>\n      <td></td>\n      <td></td>\n      <td>NaN</td>\n      <td>NaN</td>\n      <td>NaN</td>\n      <td>NaN</td>\n      <td>NaN</td>\n      <td>NaN</td>\n      <td>NaN</td>\n      <td>NaN</td>\n    </tr>\n    <tr>\n      <th>28463</th>\n      <td>28464.0</td>\n      <td>82921.0</td>\n      <td>8292.0</td>\n      <td>2.0</td>\n      <td>NaN</td>\n      <td>22.390587</td>\n      <td>2062.0</td>\n      <td>2017.0</td>\n      <td>NaN</td>\n      <td>2.0</td>\n      <td>...</td>\n      <td></td>\n      <td></td>\n      <td>NaN</td>\n      <td>NaN</td>\n      <td>NaN</td>\n      <td>NaN</td>\n      <td>NaN</td>\n      <td>NaN</td>\n      <td>NaN</td>\n      <td>NaN</td>\n    </tr>\n    <tr>\n      <th>28464</th>\n      <td>28465.0</td>\n      <td>244621.0</td>\n      <td>24462.0</td>\n      <td>2.0</td>\n      <td>NaN</td>\n      <td>27.520652</td>\n      <td>2004.0</td>\n      <td>2017.0</td>\n      <td>NaN</td>\n      <td>2.0</td>\n      <td>...</td>\n      <td></td>\n      <td></td>\n      <td>NaN</td>\n      <td>NaN</td>\n      <td>NaN</td>\n      <td>NaN</td>\n      <td>NaN</td>\n      <td>NaN</td>\n      <td>NaN</td>\n      <td>NaN</td>\n    </tr>\n  </tbody>\n</table>\n<p>28465 rows × 454 columns</p>\n</div>"
     },
     "metadata": {},
     "execution_count": 20
    }
   ],
   "source": [
    "df.where(df['STRATUM'] > 2000)"
   ]
  },
  {
   "cell_type": "code",
   "execution_count": 25,
   "metadata": {},
   "outputs": [],
   "source": [
    "import pandas as pd\n",
    "s1 = pd.Series({1: 'Alice', 2: 'Jack', 3: 'Molly'})\n",
    "s2 = pd.Series({'Alice': 1, 'Jack': 2, 'Molly': 3})"
   ]
  },
  {
   "cell_type": "code",
   "execution_count": 28,
   "metadata": {},
   "outputs": [
    {
     "output_type": "error",
     "ename": "KeyError",
     "evalue": "1",
     "traceback": [
      "\u001b[1;31m---------------------------------------------------------------------------\u001b[0m",
      "\u001b[1;31mKeyError\u001b[0m                                  Traceback (most recent call last)",
      "\u001b[1;32mC:\\Python374\\lib\\site-packages\\pandas\\core\\indexes\\base.py\u001b[0m in \u001b[0;36mget_loc\u001b[1;34m(self, key, method, tolerance)\u001b[0m\n\u001b[0;32m   3079\u001b[0m             \u001b[1;32mtry\u001b[0m\u001b[1;33m:\u001b[0m\u001b[1;33m\u001b[0m\u001b[1;33m\u001b[0m\u001b[0m\n\u001b[1;32m-> 3080\u001b[1;33m                 \u001b[1;32mreturn\u001b[0m \u001b[0mself\u001b[0m\u001b[1;33m.\u001b[0m\u001b[0m_engine\u001b[0m\u001b[1;33m.\u001b[0m\u001b[0mget_loc\u001b[0m\u001b[1;33m(\u001b[0m\u001b[0mcasted_key\u001b[0m\u001b[1;33m)\u001b[0m\u001b[1;33m\u001b[0m\u001b[1;33m\u001b[0m\u001b[0m\n\u001b[0m\u001b[0;32m   3081\u001b[0m             \u001b[1;32mexcept\u001b[0m \u001b[0mKeyError\u001b[0m \u001b[1;32mas\u001b[0m \u001b[0merr\u001b[0m\u001b[1;33m:\u001b[0m\u001b[1;33m\u001b[0m\u001b[1;33m\u001b[0m\u001b[0m\n",
      "\u001b[1;32mpandas\\_libs\\index.pyx\u001b[0m in \u001b[0;36mpandas._libs.index.IndexEngine.get_loc\u001b[1;34m()\u001b[0m\n",
      "\u001b[1;32mpandas\\_libs\\index.pyx\u001b[0m in \u001b[0;36mpandas._libs.index.IndexEngine.get_loc\u001b[1;34m()\u001b[0m\n",
      "\u001b[1;32mpandas\\_libs\\hashtable_class_helper.pxi\u001b[0m in \u001b[0;36mpandas._libs.hashtable.PyObjectHashTable.get_item\u001b[1;34m()\u001b[0m\n",
      "\u001b[1;32mpandas\\_libs\\hashtable_class_helper.pxi\u001b[0m in \u001b[0;36mpandas._libs.hashtable.PyObjectHashTable.get_item\u001b[1;34m()\u001b[0m\n",
      "\u001b[1;31mKeyError\u001b[0m: 1",
      "\nThe above exception was the direct cause of the following exception:\n",
      "\u001b[1;31mKeyError\u001b[0m                                  Traceback (most recent call last)",
      "\u001b[1;32m<ipython-input-28-42fe26c38f36>\u001b[0m in \u001b[0;36m<module>\u001b[1;34m\u001b[0m\n\u001b[1;32m----> 1\u001b[1;33m \u001b[0ms2\u001b[0m\u001b[1;33m.\u001b[0m\u001b[0mloc\u001b[0m\u001b[1;33m[\u001b[0m\u001b[1;36m1\u001b[0m\u001b[1;33m]\u001b[0m\u001b[1;33m\u001b[0m\u001b[1;33m\u001b[0m\u001b[0m\n\u001b[0m",
      "\u001b[1;32mC:\\Python374\\lib\\site-packages\\pandas\\core\\indexing.py\u001b[0m in \u001b[0;36m__getitem__\u001b[1;34m(self, key)\u001b[0m\n\u001b[0;32m    893\u001b[0m \u001b[1;33m\u001b[0m\u001b[0m\n\u001b[0;32m    894\u001b[0m             \u001b[0mmaybe_callable\u001b[0m \u001b[1;33m=\u001b[0m \u001b[0mcom\u001b[0m\u001b[1;33m.\u001b[0m\u001b[0mapply_if_callable\u001b[0m\u001b[1;33m(\u001b[0m\u001b[0mkey\u001b[0m\u001b[1;33m,\u001b[0m \u001b[0mself\u001b[0m\u001b[1;33m.\u001b[0m\u001b[0mobj\u001b[0m\u001b[1;33m)\u001b[0m\u001b[1;33m\u001b[0m\u001b[1;33m\u001b[0m\u001b[0m\n\u001b[1;32m--> 895\u001b[1;33m             \u001b[1;32mreturn\u001b[0m \u001b[0mself\u001b[0m\u001b[1;33m.\u001b[0m\u001b[0m_getitem_axis\u001b[0m\u001b[1;33m(\u001b[0m\u001b[0mmaybe_callable\u001b[0m\u001b[1;33m,\u001b[0m \u001b[0maxis\u001b[0m\u001b[1;33m=\u001b[0m\u001b[0maxis\u001b[0m\u001b[1;33m)\u001b[0m\u001b[1;33m\u001b[0m\u001b[1;33m\u001b[0m\u001b[0m\n\u001b[0m\u001b[0;32m    896\u001b[0m \u001b[1;33m\u001b[0m\u001b[0m\n\u001b[0;32m    897\u001b[0m     \u001b[1;32mdef\u001b[0m \u001b[0m_is_scalar_access\u001b[0m\u001b[1;33m(\u001b[0m\u001b[0mself\u001b[0m\u001b[1;33m,\u001b[0m \u001b[0mkey\u001b[0m\u001b[1;33m:\u001b[0m \u001b[0mTuple\u001b[0m\u001b[1;33m)\u001b[0m\u001b[1;33m:\u001b[0m\u001b[1;33m\u001b[0m\u001b[1;33m\u001b[0m\u001b[0m\n",
      "\u001b[1;32mC:\\Python374\\lib\\site-packages\\pandas\\core\\indexing.py\u001b[0m in \u001b[0;36m_getitem_axis\u001b[1;34m(self, key, axis)\u001b[0m\n\u001b[0;32m   1122\u001b[0m         \u001b[1;31m# fall thru to straight lookup\u001b[0m\u001b[1;33m\u001b[0m\u001b[1;33m\u001b[0m\u001b[1;33m\u001b[0m\u001b[0m\n\u001b[0;32m   1123\u001b[0m         \u001b[0mself\u001b[0m\u001b[1;33m.\u001b[0m\u001b[0m_validate_key\u001b[0m\u001b[1;33m(\u001b[0m\u001b[0mkey\u001b[0m\u001b[1;33m,\u001b[0m \u001b[0maxis\u001b[0m\u001b[1;33m)\u001b[0m\u001b[1;33m\u001b[0m\u001b[1;33m\u001b[0m\u001b[0m\n\u001b[1;32m-> 1124\u001b[1;33m         \u001b[1;32mreturn\u001b[0m \u001b[0mself\u001b[0m\u001b[1;33m.\u001b[0m\u001b[0m_get_label\u001b[0m\u001b[1;33m(\u001b[0m\u001b[0mkey\u001b[0m\u001b[1;33m,\u001b[0m \u001b[0maxis\u001b[0m\u001b[1;33m=\u001b[0m\u001b[0maxis\u001b[0m\u001b[1;33m)\u001b[0m\u001b[1;33m\u001b[0m\u001b[1;33m\u001b[0m\u001b[0m\n\u001b[0m\u001b[0;32m   1125\u001b[0m \u001b[1;33m\u001b[0m\u001b[0m\n\u001b[0;32m   1126\u001b[0m     \u001b[1;32mdef\u001b[0m \u001b[0m_get_slice_axis\u001b[0m\u001b[1;33m(\u001b[0m\u001b[0mself\u001b[0m\u001b[1;33m,\u001b[0m \u001b[0mslice_obj\u001b[0m\u001b[1;33m:\u001b[0m \u001b[0mslice\u001b[0m\u001b[1;33m,\u001b[0m \u001b[0maxis\u001b[0m\u001b[1;33m:\u001b[0m \u001b[0mint\u001b[0m\u001b[1;33m)\u001b[0m\u001b[1;33m:\u001b[0m\u001b[1;33m\u001b[0m\u001b[1;33m\u001b[0m\u001b[0m\n",
      "\u001b[1;32mC:\\Python374\\lib\\site-packages\\pandas\\core\\indexing.py\u001b[0m in \u001b[0;36m_get_label\u001b[1;34m(self, label, axis)\u001b[0m\n\u001b[0;32m   1071\u001b[0m     \u001b[1;32mdef\u001b[0m \u001b[0m_get_label\u001b[0m\u001b[1;33m(\u001b[0m\u001b[0mself\u001b[0m\u001b[1;33m,\u001b[0m \u001b[0mlabel\u001b[0m\u001b[1;33m,\u001b[0m \u001b[0maxis\u001b[0m\u001b[1;33m:\u001b[0m \u001b[0mint\u001b[0m\u001b[1;33m)\u001b[0m\u001b[1;33m:\u001b[0m\u001b[1;33m\u001b[0m\u001b[1;33m\u001b[0m\u001b[0m\n\u001b[0;32m   1072\u001b[0m         \u001b[1;31m# GH#5667 this will fail if the label is not present in the axis.\u001b[0m\u001b[1;33m\u001b[0m\u001b[1;33m\u001b[0m\u001b[1;33m\u001b[0m\u001b[0m\n\u001b[1;32m-> 1073\u001b[1;33m         \u001b[1;32mreturn\u001b[0m \u001b[0mself\u001b[0m\u001b[1;33m.\u001b[0m\u001b[0mobj\u001b[0m\u001b[1;33m.\u001b[0m\u001b[0mxs\u001b[0m\u001b[1;33m(\u001b[0m\u001b[0mlabel\u001b[0m\u001b[1;33m,\u001b[0m \u001b[0maxis\u001b[0m\u001b[1;33m=\u001b[0m\u001b[0maxis\u001b[0m\u001b[1;33m)\u001b[0m\u001b[1;33m\u001b[0m\u001b[1;33m\u001b[0m\u001b[0m\n\u001b[0m\u001b[0;32m   1074\u001b[0m \u001b[1;33m\u001b[0m\u001b[0m\n\u001b[0;32m   1075\u001b[0m     \u001b[1;32mdef\u001b[0m \u001b[0m_handle_lowerdim_multi_index_axis0\u001b[0m\u001b[1;33m(\u001b[0m\u001b[0mself\u001b[0m\u001b[1;33m,\u001b[0m \u001b[0mtup\u001b[0m\u001b[1;33m:\u001b[0m \u001b[0mTuple\u001b[0m\u001b[1;33m)\u001b[0m\u001b[1;33m:\u001b[0m\u001b[1;33m\u001b[0m\u001b[1;33m\u001b[0m\u001b[0m\n",
      "\u001b[1;32mC:\\Python374\\lib\\site-packages\\pandas\\core\\generic.py\u001b[0m in \u001b[0;36mxs\u001b[1;34m(self, key, axis, level, drop_level)\u001b[0m\n\u001b[0;32m   3737\u001b[0m                 \u001b[1;32mraise\u001b[0m \u001b[0mTypeError\u001b[0m\u001b[1;33m(\u001b[0m\u001b[1;34mf\"Expected label or tuple of labels, got {key}\"\u001b[0m\u001b[1;33m)\u001b[0m \u001b[1;32mfrom\u001b[0m \u001b[0me\u001b[0m\u001b[1;33m\u001b[0m\u001b[1;33m\u001b[0m\u001b[0m\n\u001b[0;32m   3738\u001b[0m         \u001b[1;32melse\u001b[0m\u001b[1;33m:\u001b[0m\u001b[1;33m\u001b[0m\u001b[1;33m\u001b[0m\u001b[0m\n\u001b[1;32m-> 3739\u001b[1;33m             \u001b[0mloc\u001b[0m \u001b[1;33m=\u001b[0m \u001b[0mindex\u001b[0m\u001b[1;33m.\u001b[0m\u001b[0mget_loc\u001b[0m\u001b[1;33m(\u001b[0m\u001b[0mkey\u001b[0m\u001b[1;33m)\u001b[0m\u001b[1;33m\u001b[0m\u001b[1;33m\u001b[0m\u001b[0m\n\u001b[0m\u001b[0;32m   3740\u001b[0m \u001b[1;33m\u001b[0m\u001b[0m\n\u001b[0;32m   3741\u001b[0m             \u001b[1;32mif\u001b[0m \u001b[0misinstance\u001b[0m\u001b[1;33m(\u001b[0m\u001b[0mloc\u001b[0m\u001b[1;33m,\u001b[0m \u001b[0mnp\u001b[0m\u001b[1;33m.\u001b[0m\u001b[0mndarray\u001b[0m\u001b[1;33m)\u001b[0m\u001b[1;33m:\u001b[0m\u001b[1;33m\u001b[0m\u001b[1;33m\u001b[0m\u001b[0m\n",
      "\u001b[1;32mC:\\Python374\\lib\\site-packages\\pandas\\core\\indexes\\base.py\u001b[0m in \u001b[0;36mget_loc\u001b[1;34m(self, key, method, tolerance)\u001b[0m\n\u001b[0;32m   3080\u001b[0m                 \u001b[1;32mreturn\u001b[0m \u001b[0mself\u001b[0m\u001b[1;33m.\u001b[0m\u001b[0m_engine\u001b[0m\u001b[1;33m.\u001b[0m\u001b[0mget_loc\u001b[0m\u001b[1;33m(\u001b[0m\u001b[0mcasted_key\u001b[0m\u001b[1;33m)\u001b[0m\u001b[1;33m\u001b[0m\u001b[1;33m\u001b[0m\u001b[0m\n\u001b[0;32m   3081\u001b[0m             \u001b[1;32mexcept\u001b[0m \u001b[0mKeyError\u001b[0m \u001b[1;32mas\u001b[0m \u001b[0merr\u001b[0m\u001b[1;33m:\u001b[0m\u001b[1;33m\u001b[0m\u001b[1;33m\u001b[0m\u001b[0m\n\u001b[1;32m-> 3082\u001b[1;33m                 \u001b[1;32mraise\u001b[0m \u001b[0mKeyError\u001b[0m\u001b[1;33m(\u001b[0m\u001b[0mkey\u001b[0m\u001b[1;33m)\u001b[0m \u001b[1;32mfrom\u001b[0m \u001b[0merr\u001b[0m\u001b[1;33m\u001b[0m\u001b[1;33m\u001b[0m\u001b[0m\n\u001b[0m\u001b[0;32m   3083\u001b[0m \u001b[1;33m\u001b[0m\u001b[0m\n\u001b[0;32m   3084\u001b[0m         \u001b[1;32mif\u001b[0m \u001b[0mtolerance\u001b[0m \u001b[1;32mis\u001b[0m \u001b[1;32mnot\u001b[0m \u001b[1;32mNone\u001b[0m\u001b[1;33m:\u001b[0m\u001b[1;33m\u001b[0m\u001b[1;33m\u001b[0m\u001b[0m\n",
      "\u001b[1;31mKeyError\u001b[0m: 1"
     ]
    }
   ],
   "source": [
    "\n",
    "s2.loc[1]"
   ]
  }
 ],
 "metadata": {
  "anaconda-cloud": {},
  "coursera": {
   "schema_names": [
    "mooc_adswpy_1_v2_assignment2"
   ]
  },
  "hide_code_all_hidden": false,
  "kernelspec": {
   "name": "python374jvsc74a57bd00c5c1190bdebcf1d542d2b5094efbdb519bae628ba4b90d177dff5efbf5501b3",
   "display_name": "Python 3.7.4 64-bit"
  },
  "language_info": {
   "codemirror_mode": {
    "name": "ipython",
    "version": 3
   },
   "file_extension": ".py",
   "mimetype": "text/x-python",
   "name": "python",
   "nbconvert_exporter": "python",
   "pygments_lexer": "ipython3",
   "version": "3.7.4"
  }
 },
 "nbformat": 4,
 "nbformat_minor": 1
}